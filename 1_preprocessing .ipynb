{
 "cells": [
  {
   "cell_type": "code",
   "execution_count": 1,
   "metadata": {},
   "outputs": [],
   "source": [
    "import matplotlib.pyplot as plt\n",
    "import geopandas as gpd\n",
    "import numpy as np\n",
    "import pandas as pd\n",
    "from sklearn import preprocessing\n",
    "import seaborn as sns\n",
    "from sklearn.model_selection import train_test_split\n",
    "import sys"
   ]
  },
  {
   "cell_type": "code",
   "execution_count": 2,
   "metadata": {},
   "outputs": [],
   "source": [
    "#!{sys.executable} -m pip install geopandas"
   ]
  },
  {
   "cell_type": "markdown",
   "metadata": {},
   "source": [
    "### 1. Read the dataset"
   ]
  },
  {
   "cell_type": "code",
   "execution_count": 3,
   "metadata": {},
   "outputs": [],
   "source": [
    "# get the full_dataset\n",
    "dataset = gpd.read_file('dataset/dataset_thesis.shp')\n"
   ]
  },
  {
   "cell_type": "code",
   "execution_count": 165,
   "metadata": {},
   "outputs": [],
   "source": [
    "%store -r preds\n",
    "%store -r plex_preds\n",
    "%store -r rf_preds"
   ]
  },
  {
   "cell_type": "code",
   "execution_count": 27,
   "metadata": {},
   "outputs": [],
   "source": [
    "dataset[\"xgb_preds\"]=preds\n",
    "dataset[\"plex_preds\"]=plex_preds\n",
    "dataset[\"rf_preds\"]=rf_preds"
   ]
  },
  {
   "cell_type": "code",
   "execution_count": 29,
   "metadata": {},
   "outputs": [],
   "source": [
    "dataset.drop(['AGB_preds'], axis=1, inplace=True)\n"
   ]
  },
  {
   "cell_type": "code",
   "execution_count": 140,
   "metadata": {},
   "outputs": [],
   "source": [
    "dataset.to_file(driver = 'ESRI Shapefile', filename= \"Predictions/Predictions.shp\")"
   ]
  },
  {
   "cell_type": "code",
   "execution_count": 4,
   "metadata": {},
   "outputs": [
    {
     "name": "stdout",
     "output_type": "stream",
     "text": [
      "Stored 'dataset_trial' (DataFrame)\n"
     ]
    }
   ],
   "source": [
    "dataset_trial = pd.DataFrame(dataset)\n",
    "%store dataset_trial"
   ]
  },
  {
   "cell_type": "code",
   "execution_count": 204,
   "metadata": {},
   "outputs": [],
   "source": [
    "plex_preds = plex_preds[plex_preds < 500]\n",
    "xgb_preds = preds[preds > 0]"
   ]
  },
  {
   "cell_type": "code",
   "execution_count": 208,
   "metadata": {},
   "outputs": [],
   "source": [
    "measure_mean = np.mean(y['AGB_t_ha'])"
   ]
  },
  {
   "cell_type": "code",
   "execution_count": 180,
   "metadata": {},
   "outputs": [
    {
     "data": {
      "text/plain": [
       "count    504.000000\n",
       "mean      92.486131\n",
       "std       56.391328\n",
       "min        0.350947\n",
       "25%       57.064588\n",
       "50%       80.414711\n",
       "75%      109.367330\n",
       "max      274.495068\n",
       "Name: AGB_t_ha, dtype: float64"
      ]
     },
     "execution_count": 180,
     "metadata": {},
     "output_type": "execute_result"
    }
   ],
   "source": [
    "y['AGB_t_ha'].describe()"
   ]
  },
  {
   "cell_type": "code",
   "execution_count": 176,
   "metadata": {},
   "outputs": [
    {
     "data": {
      "text/plain": [
       "count    1.051601e+06\n",
       "mean     7.669425e+01\n",
       "std      5.687214e+01\n",
       "min      9.181707e+00\n",
       "25%      4.174711e+01\n",
       "50%      6.280732e+01\n",
       "75%      9.254457e+01\n",
       "max      4.994701e+02\n",
       "Name: 0, dtype: float64"
      ]
     },
     "execution_count": 176,
     "metadata": {},
     "output_type": "execute_result"
    }
   ],
   "source": [
    "plex_preds[0].describe()"
   ]
  },
  {
   "cell_type": "code",
   "execution_count": 220,
   "metadata": {},
   "outputs": [
    {
     "data": {
      "text/html": [
       "<div>\n",
       "<style scoped>\n",
       "    .dataframe tbody tr th:only-of-type {\n",
       "        vertical-align: middle;\n",
       "    }\n",
       "\n",
       "    .dataframe tbody tr th {\n",
       "        vertical-align: top;\n",
       "    }\n",
       "\n",
       "    .dataframe thead th {\n",
       "        text-align: right;\n",
       "    }\n",
       "</style>\n",
       "<table border=\"1\" class=\"dataframe\">\n",
       "  <thead>\n",
       "    <tr style=\"text-align: right;\">\n",
       "      <th></th>\n",
       "      <th>0</th>\n",
       "    </tr>\n",
       "  </thead>\n",
       "  <tbody>\n",
       "    <tr>\n",
       "      <th>count</th>\n",
       "      <td>1.048892e+06</td>\n",
       "    </tr>\n",
       "    <tr>\n",
       "      <th>mean</th>\n",
       "      <td>8.286678e+01</td>\n",
       "    </tr>\n",
       "    <tr>\n",
       "      <th>std</th>\n",
       "      <td>5.132643e+01</td>\n",
       "    </tr>\n",
       "    <tr>\n",
       "      <th>min</th>\n",
       "      <td>2.306134e-03</td>\n",
       "    </tr>\n",
       "    <tr>\n",
       "      <th>25%</th>\n",
       "      <td>4.468284e+01</td>\n",
       "    </tr>\n",
       "    <tr>\n",
       "      <th>50%</th>\n",
       "      <td>7.135252e+01</td>\n",
       "    </tr>\n",
       "    <tr>\n",
       "      <th>75%</th>\n",
       "      <td>1.118026e+02</td>\n",
       "    </tr>\n",
       "    <tr>\n",
       "      <th>max</th>\n",
       "      <td>3.465565e+02</td>\n",
       "    </tr>\n",
       "  </tbody>\n",
       "</table>\n",
       "</div>"
      ],
      "text/plain": [
       "                  0\n",
       "count  1.048892e+06\n",
       "mean   8.286678e+01\n",
       "std    5.132643e+01\n",
       "min    2.306134e-03\n",
       "25%    4.468284e+01\n",
       "50%    7.135252e+01\n",
       "75%    1.118026e+02\n",
       "max    3.465565e+02"
      ]
     },
     "execution_count": 220,
     "metadata": {},
     "output_type": "execute_result"
    }
   ],
   "source": [
    "pd.DataFrame(xgb_preds[0].describe())"
   ]
  },
  {
   "cell_type": "code",
   "execution_count": 179,
   "metadata": {},
   "outputs": [
    {
     "data": {
      "text/plain": [
       "count    1.056295e+06\n",
       "mean     8.130809e+01\n",
       "std      5.213910e+01\n",
       "min      7.279997e-01\n",
       "25%      4.060204e+01\n",
       "50%      7.145066e+01\n",
       "75%      1.021727e+02\n",
       "max      2.744951e+02\n",
       "Name: 0, dtype: float64"
      ]
     },
     "execution_count": 179,
     "metadata": {},
     "output_type": "execute_result"
    }
   ],
   "source": [
    "rf_preds[0].describe()"
   ]
  },
  {
   "cell_type": "code",
   "execution_count": 164,
   "metadata": {},
   "outputs": [
    {
     "data": {
      "text/plain": [
       "76.69424684879485"
      ]
     },
     "execution_count": 164,
     "metadata": {},
     "output_type": "execute_result"
    }
   ],
   "source": [
    "np.mean(plex_preds[0])"
   ]
  },
  {
   "cell_type": "code",
   "execution_count": 216,
   "metadata": {},
   "outputs": [
    {
     "data": {
      "text/plain": [
       "<matplotlib.legend.Legend at 0x7ffb998550f0>"
      ]
     },
     "execution_count": 216,
     "metadata": {},
     "output_type": "execute_result"
    },
    {
     "data": {
      "image/png": "[encoded data removed]",
      "text/plain": [
       "<Figure size 432x288 with 1 Axes>"
      ]
     },
     "metadata": {},
     "output_type": "display_data"
    }
   ],
   "source": [
    "plt.hist(y['AGB_t_ha'], color = \"#ff7f4dff\")\n",
    "#axs[0].set_xlim(0,350)\n",
    "plt.title(\"Measured AGB (t/ha)\")\n",
    "plt.axvline(np.mean(y['AGB_t_ha']), color = '#25521988', linestyle = '--', \n",
    "               label= f'mean AGB \\n{np.round(measure_mean,2)} t/ha' )\n",
    "plt.ylabel('Frequency')\n",
    "plt.xlabel('AGB (t/ha)')\n",
    "plt.legend()\n"
   ]
  },
  {
   "cell_type": "code",
   "execution_count": 217,
   "metadata": {},
   "outputs": [
    {
     "data": {
      "text/plain": [
       "<matplotlib.legend.Legend at 0x7ffb9c3fc320>"
      ]
     },
     "execution_count": 217,
     "metadata": {},
     "output_type": "execute_result"
    },
    {
     "data": {
      "image/png": "[encoded data removed]",
      "text/plain": [
       "<Figure size 432x288 with 1 Axes>"
      ]
     },
     "metadata": {},
     "output_type": "display_data"
    }
   ],
   "source": [
    "plt.hist(xgb_preds[0], color = \"#40d491ff\")\n",
    "#axs[1].set_xlim(0,350)\n",
    "plt.title(\"Predicted AGB (t/ha) \\nXGB with Bayesian Search\")\n",
    "plt.axvline(np.mean(xgb_preds[0]), color = '#25521988', linestyle = '--', \n",
    "               label= f'mean AGB \\n{np.round(np.mean(xgb_preds[0]))} t/ha' )\n",
    "plt.ylabel('Frequency')\n",
    "plt.xlabel('AGB (t/ha)')\n",
    "plt.legend()"
   ]
  },
  {
   "cell_type": "code",
   "execution_count": 218,
   "metadata": {},
   "outputs": [
    {
     "data": {
      "text/plain": [
       "<matplotlib.legend.Legend at 0x7ffb9d5a5128>"
      ]
     },
     "execution_count": 218,
     "metadata": {},
     "output_type": "execute_result"
    },
    {
     "data": {
      "image/png": "[encoded data removed]",
      "text/plain": [
       "<Figure size 432x288 with 1 Axes>"
      ]
     },
     "metadata": {},
     "output_type": "display_data"
    }
   ],
   "source": [
    "plt.hist(rf_preds[0], color = \"#40d491ff\")\n",
    "#axs[2].set_xlim(0,350)\n",
    "plt.title(\"Predicted AGB (t/ha) \\nRF with Grid Search\")\n",
    "plt.axvline(np.mean(rf_preds[0]), color = '#25521988', linestyle = '--', \n",
    "               label= f'mean AGB \\n{np.round(np.mean(rf_preds[0]),2)} t/ha' )\n",
    "plt.ylabel('Frequency')\n",
    "plt.xlabel('AGB (t/ha)')\n",
    "plt.legend()"
   ]
  },
  {
   "cell_type": "code",
   "execution_count": 219,
   "metadata": {},
   "outputs": [
    {
     "data": {
      "text/plain": [
       "<matplotlib.legend.Legend at 0x7ffb9c052d68>"
      ]
     },
     "execution_count": 219,
     "metadata": {},
     "output_type": "execute_result"
    },
    {
     "data": {
      "image/png": "[encoded data removed]",
      "text/plain": [
       "<Figure size 432x288 with 1 Axes>"
      ]
     },
     "metadata": {},
     "output_type": "display_data"
    }
   ],
   "source": [
    "plt.hist(plex_preds[0], color = \"#40d491ff\")\n",
    "plt.title(\"Predicted AGB (t/ha) \\nXGB with Complex ANN\")\n",
    "plt.axvline(np.mean(plex_preds[0]), color = '#25521988', linestyle = '--', \n",
    "               label= f'mean AGB \\n{np.round(np.mean(plex_preds[0]),2)} t/ha' )\n",
    "plt.ylabel('Frequency')\n",
    "plt.xlabel('AGB (t/ha)')\n",
    "plt.legend()"
   ]
  },
  {
   "cell_type": "code",
   "execution_count": 214,
   "metadata": {},
   "outputs": [
    {
     "data": {
      "image/png": "[encoded data removed]",
      "text/plain": [
       "<Figure size 1080x360 with 4 Axes>"
      ]
     },
     "metadata": {},
     "output_type": "display_data"
    }
   ],
   "source": [
    "import matplotlib.pyplot as plt\n",
    "import numpy as np\n",
    "%matplotlib inline\n",
    "\n",
    "fig, axs = plt.subplots(1, 4, tight_layout=True, figsize =(15,5))\n",
    "\n",
    "axs[0].hist(y['AGB_t_ha'], color = \"#ff7f4dff\")\n",
    "#axs[0].set_xlim(0,350)\n",
    "axs[0].set_title(\"Measured AGB (t/ha)\")\n",
    "axs[0].axvline(np.mean(y['AGB_t_ha']), color = '#25521988', linestyle = '--', \n",
    "               label= f'mean AGB \\n{np.round(measure_mean,2)} t/ha' )\n",
    "axs[0].set_ylabel('Frequency')\n",
    "axs[0].set_xlabel('AGB (t/ha)')\n",
    "axs[0].legend()\n",
    "\n",
    "axs[1].hist(xgb_preds[0], color = \"#40d491ff\")\n",
    "#axs[1].set_xlim(0,350)\n",
    "axs[1].set_title(\"Predicted AGB (t/ha) \\nXGB with Bayesian Search\")\n",
    "axs[1].axvline(np.mean(xgb_preds[0]), color = '#25521988', linestyle = '--', \n",
    "               label= f'mean AGB \\n{np.round(np.mean(xgb_preds[0]))} t/ha' )\n",
    "axs[1].set_ylabel('Frequency')\n",
    "axs[1].set_xlabel('AGB (t/ha)')\n",
    "axs[1].legend()\n",
    "\n",
    "axs[2].hist(rf_preds[0], color = \"#40d491ff\")\n",
    "#axs[2].set_xlim(0,350)\n",
    "axs[2].set_title(\"Predicted AGB (t/ha) \\nRF with Grid Search\")\n",
    "axs[2].axvline(np.mean(rf_preds[0]), color = '#25521988', linestyle = '--', \n",
    "               label= f'mean AGB \\n{np.round(np.mean(rf_preds[0]),2)} t/ha' )\n",
    "axs[2].set_ylabel('Frequency')\n",
    "axs[2].set_xlabel('AGB (t/ha)')\n",
    "axs[2].legend()\n",
    "\n",
    "axs[3].hist(plex_preds[0], color = \"#40d491ff\")\n",
    "axs[3].set_title(\"Predicted AGB (t/ha) \\nXGB with Complex ANN\")\n",
    "axs[3].axvline(np.mean(plex_preds[0]), color = '#25521988', linestyle = '--', \n",
    "               label= f'mean AGB \\n{np.round(np.mean(plex_preds[0]),2)} t/ha' )\n",
    "axs[3].set_ylabel('Frequency')\n",
    "axs[3].set_xlabel('AGB (t/ha)')\n",
    "axs[3].legend()\n",
    "\n",
    "plt.show()"
   ]
  },
  {
   "cell_type": "code",
   "execution_count": null,
   "metadata": {},
   "outputs": [],
   "source": []
  },
  {
   "cell_type": "code",
   "execution_count": 132,
   "metadata": {},
   "outputs": [
    {
     "name": "stdout",
     "output_type": "stream",
     "text": [
      "XGB: KstestResult(statistic=0.15444600951348592, pvalue=5.784097972778908e-11)\n"
     ]
    }
   ],
   "source": [
    "from scipy import stats\n",
    "print(\"XGB:\",stats.ks_2samp(y['AGB_t_ha'], preds[0]))"
   ]
  },
  {
   "cell_type": "code",
   "execution_count": 133,
   "metadata": {},
   "outputs": [
    {
     "name": "stdout",
     "output_type": "stream",
     "text": [
      "Random Forest: KstestResult(statistic=0.15871998916247917, pvalue=1.4749688642048252e-11)\n"
     ]
    }
   ],
   "source": [
    "print( \"Random Forest:\", stats.ks_2samp(y['AGB_t_ha'], rf_preds[0]))"
   ]
  },
  {
   "cell_type": "code",
   "execution_count": 134,
   "metadata": {},
   "outputs": [
    {
     "name": "stdout",
     "output_type": "stream",
     "text": [
      "plex ANN: KstestResult(statistic=0.2348742989591427, pvalue=6.134940802943298e-25)\n"
     ]
    }
   ],
   "source": [
    "print(\"plex ANN:\", stats.ks_2samp(y['AGB_t_ha'], plex_preds[0]))"
   ]
  },
  {
   "cell_type": "markdown",
   "metadata": {},
   "source": [
    "### 2. Create a table containing only labelled points (both Xs and y)"
   ]
  },
  {
   "cell_type": "code",
   "execution_count": 45,
   "metadata": {},
   "outputs": [],
   "source": [
    "# modeling_dataset: get only rows with AGB values and get rid of geometry column (to split into train and test)\n",
    "modeling_dataset = dataset.drop('geometry', 1)\n",
    "modeling_dataset = modeling_dataset.loc[dataset['AGB_t_ha']!=-9999.0]\n",
    "# create a modeling_dataset DataFrame\n",
    "modeling_dataset = pd.DataFrame(modeling_dataset)"
   ]
  },
  {
   "cell_type": "markdown",
   "metadata": {},
   "source": [
    "### 3. Xs and y"
   ]
  },
  {
   "cell_type": "code",
   "execution_count": 46,
   "metadata": {},
   "outputs": [],
   "source": [
    "# separate modeling_dataset into X(all features) and y(AGB)\n",
    "X = modeling_dataset.drop('AGB_t_ha',1)\n",
    "y = pd.DataFrame(modeling_dataset['AGB_t_ha'])"
   ]
  },
  {
   "cell_type": "markdown",
   "metadata": {},
   "source": [
    "### 4. Create a new column with plot unique indentifier; there are 73 plots"
   ]
  },
  {
   "cell_type": "code",
   "execution_count": 5,
   "metadata": {},
   "outputs": [],
   "source": [
    "plot_df = pd.DataFrame()\n",
    "plot_df['plot_number']=np.argwhere(y.values == np.unique(y))[:,1]\n",
    "plot_df.index=y.index"
   ]
  },
  {
   "cell_type": "markdown",
   "metadata": {},
   "source": [
    "### 5. Cross-val and normalize with RobustScaler (funct)"
   ]
  },
  {
   "cell_type": "markdown",
   "metadata": {},
   "source": [
    "Scale features using statistics that are robust to outliers. This Scaler removes the median and scales the data according to the quantile range (defaults to IQR: Interquartile Range). The IQR is the range between the 1st quartile (25th quantile) and the 3rd quartile (75th quantile). Centering and scaling happen independently on each feature by computing the relevant statistics on the samples in the training set. Median and interquartile range are then stored to be used on later data using the transform method. Standardization of a dataset is a common requirement for many machine learning estimators. Typically this is done by removing the mean and scaling to unit variance. However, outliers can often influence the sample mean / variance in a negative way. In such cases, the median and the interquartile range often give better results.\n",
    "\n",
    "N.B. only Xs are scaled"
   ]
  },
  {
   "cell_type": "code",
   "execution_count": 6,
   "metadata": {},
   "outputs": [
    {
     "name": "stdout",
     "output_type": "stream",
     "text": [
      "Stored 'dataset' (GeoDataFrame)\n",
      "Stored 'plot_df' (DataFrame)\n",
      "Stored 'X' (DataFrame)\n",
      "Stored 'y' (DataFrame)\n"
     ]
    }
   ],
   "source": [
    "%store dataset\n",
    "%store plot_df\n",
    "%store X\n",
    "%store y"
   ]
  },
  {
   "cell_type": "code",
   "execution_count": 7,
   "metadata": {},
   "outputs": [],
   "source": [
    "from sklearn.model_selection import KFold\n",
    "\n",
    "def cross_val(X,y,folds=7,random_state=42):\n",
    "    \n",
    "    kf = KFold(n_splits=folds,random_state=42)\n",
    "    \n",
    "    #interates over number of train_plots and val_plots for each fold\n",
    "    for train_plots, val_plots in kf.split(np.unique(plot_df['plot_number'].unique())): \n",
    "        \n",
    "        #Goes to X, checks which entries have plot number in the train_plots and stacks the entries\n",
    "        X_train =np.vstack([X[plot_df['plot_number']==plot].values for plot in train_plots])       \n",
    "        #Goes to X, checks which entries have plot number in the train_plots and stacks the entries\n",
    "        X_val =np.vstack([X[plot_df['plot_number']==plot].values for plot in val_plots])        \n",
    "        #Goes to y, checks which entries have plot number in the train_plots and stacks the entries\n",
    "        y_train =pd.DataFrame(np.vstack([y[plot_df['plot_number']==plot].values for plot in train_plots]))\n",
    "        y_train.columns=y.columns         \n",
    "        #Goes to y, checks which entries have plot number in the train_plots and stacks the entries\n",
    "        y_val =pd.DataFrame(np.vstack([y[plot_df['plot_number']==plot].values for plot in val_plots]))\n",
    "        y_train.columns=y.columns \n",
    "        \n",
    "        ###SCALING######\n",
    "        scaler = preprocessing.RobustScaler().fit(X_train)\n",
    "        X_train = pd.DataFrame(scaler.transform(X_train))\n",
    "        X_train.columns=X.columns        \n",
    "        X_val = pd.DataFrame(scaler.transform(X_val))\n",
    "        X_val.columns=X.columns    \n",
    "        yield (X_train,y_train),(X_val,y_val) \n",
    "\n"
   ]
  },
  {
   "cell_type": "code",
   "execution_count": 8,
   "metadata": {},
   "outputs": [
    {
     "name": "stdout",
     "output_type": "stream",
     "text": [
      "Shape of X_train:334, and y_train: 334\n",
      "Shape of X_val:170, and y_val: 170\n",
      "------------------------------------\n",
      "Shape of X_train:338, and y_train: 338\n",
      "Shape of X_val:166, and y_val: 166\n",
      "------------------------------------\n",
      "Shape of X_train:336, and y_train: 336\n",
      "Shape of X_val:168, and y_val: 168\n",
      "------------------------------------\n"
     ]
    },
    {
     "name": "stderr",
     "output_type": "stream",
     "text": [
      "/home/antonio/.local/lib/python3.6/site-packages/sklearn/model_selection/_split.py:297: FutureWarning: Setting a random_state has no effect since shuffle is False. This will raise an error in 0.24. You should leave random_state to its default (None), or set shuffle=True.\n",
      "  FutureWarning\n"
     ]
    }
   ],
   "source": [
    "for train,val in cross_val(X,y,folds=3):\n",
    "    print(f'Shape of X_train:{len(train[0])}, and y_train: {len(train[1])}')\n",
    "    print(f'Shape of X_val:{len(val[0])}, and y_val: {len(val[1])}')\n",
    "    print('------------------------------------')"
   ]
  },
  {
   "cell_type": "code",
   "execution_count": null,
   "metadata": {},
   "outputs": [],
   "source": []
  }
 ],
 "metadata": {
  "kernelspec": {
   "display_name": "Python 3",
   "language": "python",
   "name": "python3"
  },
  "language_info": {
   "codemirror_mode": {
    "name": "ipython",
    "version": 3
   },
   "file_extension": ".py",
   "mimetype": "text/x-python",
   "name": "python",
   "nbconvert_exporter": "python",
   "pygments_lexer": "ipython3",
   "version": "3.6.9"
  }
 },
 "nbformat": 4,
 "nbformat_minor": 4
}
